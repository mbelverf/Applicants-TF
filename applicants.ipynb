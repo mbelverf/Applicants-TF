{
 "cells": [
  {
   "cell_type": "code",
   "execution_count": 2,
   "metadata": {},
   "outputs": [],
   "source": [
    "import tensorflow as tf\n",
    "import numpy as np\n",
    "import matplotlib.pyplot as plt\n",
    "import pandas as pd\n",
    "from sklearn.preprocessing import MinMaxScaler"
   ]
  },
  {
   "cell_type": "markdown",
   "metadata": {},
   "source": [
    "### Cargar los datos y representarlos separando los aprobados de los no aprobados"
   ]
  },
  {
   "cell_type": "code",
   "execution_count": 101,
   "metadata": {},
   "outputs": [
    {
     "data": {
      "text/plain": [
       "Text(0, 0.5, 'Mark 2')"
      ]
     },
     "execution_count": 101,
     "metadata": {},
     "output_type": "execute_result"
    },
    {
     "data": {
      "image/png": "[encoded data removed]",
      "text/plain": [
       "<Figure size 432x288 with 1 Axes>"
      ]
     },
     "metadata": {
      "needs_background": "light"
     },
     "output_type": "display_data"
    }
   ],
   "source": [
    "dataset = pd.read_csv('marks.txt',sep = \",\", header=None)\n",
    "\n",
    "dataset.columns = ['Mark_1','Mark_2','Admitted']\n",
    "\n",
    "pass_student = dataset[dataset['Admitted'] == 1]\n",
    "no_pass_student = dataset[dataset['Admitted'] == 0]\n",
    "\n",
    "plt.plot(pass_student['Mark_1'], pass_student['Mark_2'], 'o', color='green', label = \"Admitted\")\n",
    "plt.plot(no_pass_student['Mark_1'], no_pass_student['Mark_2'], 'x', color='red', label = \"No Admitted\")\n",
    "plt.legend(loc=\"lower left\")\n",
    "plt.xlabel(\"Mark 1\")\n",
    "plt.ylabel(\"Mark 2\")\n",
    "\n"
   ]
  },
  {
   "cell_type": "markdown",
   "metadata": {},
   "source": [
    "### Dividir el conjunto de datos en entrenamiento-test y normalizarlos"
   ]
  },
  {
   "cell_type": "code",
   "execution_count": 102,
   "metadata": {},
   "outputs": [],
   "source": [
    "def train_test_split(x_data, y_data):\n",
    "    idx_train = np.random.choice(len(x_data), round(len(x_data)*0.8), replace = False)\n",
    "    idx_test = list(set(range(len(x_data))) - set(idx_train))\n",
    "    \n",
    "    x_train = x_data[idx_train,:]\n",
    "    x_test = x_data[idx_test,:]\n",
    "    y_train = y_data[idx_train]\n",
    "    y_test = y_data[idx_test]\n",
    "    \n",
    "    return x_train, x_test, y_train, y_test\n",
    "\n",
    "\n",
    "X_data = dataset.values[:,0:2] # Variables independientes\n",
    "Y_data = dataset.values[:,-1] # Variable dependiente (Aprobado/No aprobado)\n",
    "\n",
    "min_max_scaler = MinMaxScaler()\n",
    "x_data_norm = min_max_scaler.fit_transform(X_data)\n",
    "\n",
    "x_train, x_test, y_train, y_test = train_test_split(x_data_norm, Y_data)\n"
   ]
  },
  {
   "cell_type": "code",
   "execution_count": 125,
   "metadata": {},
   "outputs": [],
   "source": [
    "W = tf.Variable(tf.zeros([2,1]), dtype= tf.float32)\n",
    "b = tf.Variable(tf.zeros([1,1]), dtype= tf.float32)\n",
    "x_data = tf.placeholder(shape=[None,2], dtype=tf.float32)\n",
    "y_target = tf.placeholder(shape=[None, 1], dtype= tf.float32)\n",
    "\n",
    "#modelo = X*W+b\n",
    "model =tf.add(tf.matmul(x_data, W), b)\n",
    "\n",
    "#Cálculo de la precisión\n",
    "y_prediction = tf.round(tf.nn.sigmoid(model))\n",
    "correct_prediction = tf.cast(tf.equal(y_prediction, y_target), dtype=tf.float32)\n",
    "accuracy = tf.reduce_mean(correct_prediction)\n",
    "\n",
    "# Función de pérdidas a minimizar.\n",
    "loss = tf.reduce_mean(tf.nn.sigmoid_cross_entropy_with_logits(logits = model, labels = y_target)) \n",
    "  \n",
    "# Gradient Descent Optimizer \n",
    "optimizer = tf.train.GradientDescentOptimizer(learning_rate = 0.09).minimize(loss) \n",
    "  \n",
    "# Global Variables Initializer \n",
    "session= tf.Session()\n",
    "init = tf.global_variables_initializer() \n",
    "session.run(init)\n",
    "\n"
   ]
  },
  {
   "cell_type": "markdown",
   "metadata": {},
   "source": [
    "### Algoritmo de optimización"
   ]
  },
  {
   "cell_type": "code",
   "execution_count": 135,
   "metadata": {},
   "outputs": [
    {
     "name": "stdout",
     "output_type": "stream",
     "text": [
      "Iteración #99 Precisión entrenamiento: 0.9 Precisión test: 0.95 Loss: 0.22403213\n",
      "Iteración #199 Precisión entrenamiento: 0.9 Precisión test: 0.95 Loss: 0.22391033\n",
      "Iteración #299 Precisión entrenamiento: 0.9 Precisión test: 0.95 Loss: 0.2237902\n",
      "Iteración #399 Precisión entrenamiento: 0.9 Precisión test: 0.95 Loss: 0.22367167\n",
      "Iteración #499 Precisión entrenamiento: 0.9 Precisión test: 0.95 Loss: 0.2235547\n",
      "Iteración #599 Precisión entrenamiento: 0.9 Precisión test: 0.95 Loss: 0.2234393\n",
      "Iteración #699 Precisión entrenamiento: 0.9 Precisión test: 0.95 Loss: 0.22332545\n",
      "Iteración #799 Precisión entrenamiento: 0.9 Precisión test: 0.95 Loss: 0.22321308\n",
      "Iteración #899 Precisión entrenamiento: 0.9 Precisión test: 0.95 Loss: 0.22310212\n",
      "Iteración #999 Precisión entrenamiento: 0.9 Precisión test: 0.95 Loss: 0.22299266\n",
      "Iteración #1099 Precisión entrenamiento: 0.9 Precisión test: 0.95 Loss: 0.22288465\n",
      "Iteración #1199 Precisión entrenamiento: 0.9 Precisión test: 0.95 Loss: 0.22277796\n",
      "Iteración #1299 Precisión entrenamiento: 0.9 Precisión test: 0.95 Loss: 0.22267275\n",
      "Iteración #1399 Precisión entrenamiento: 0.9 Precisión test: 0.95 Loss: 0.22256878\n",
      "Iteración #1499 Precisión entrenamiento: 0.9 Precisión test: 0.95 Loss: 0.22246616\n"
     ]
    }
   ],
   "source": [
    "epochs = 1500\n",
    "batch_size = 80\n",
    "\n",
    "train_acc = []\n",
    "test_acc = []\n",
    "loss_trace = []\n",
    "\n",
    "for it in range(epochs):\n",
    "    idx = np.random.choice(len(x_train), batch_size, replace=False)\n",
    "    \n",
    "    x_vals_train = x_train[idx]\n",
    "    y_vals_train = np.matrix(y_train[idx]).T #y_train[idx].reshape(batch_size,2)\n",
    "    \n",
    "    session.run(optimizer, feed_dict={x_data: x_vals_train, y_target: y_vals_train})\n",
    "    temp_loss = session.run(loss, feed_dict={x_data: x_vals_train, y_target: y_vals_train})\n",
    "    acc_train = session.run(accuracy, feed_dict={x_data: x_train, y_target:np.matrix(y_train).T})\n",
    "    acc_test = session.run(accuracy, feed_dict={x_data: x_test, y_target:np.matrix(y_test).T})\n",
    "\n",
    "    loss_trace.append(temp_loss)\n",
    "    train_acc.append(acc_train)\n",
    "    test_acc.append(acc_test)\n",
    "    \n",
    "    if (it+1)%100 == 0:\n",
    "        print(\"Iteración #\"+str(it)+\" Precisión entrenamiento: \"+ str(acc_train) +\" Precisión test: \"+ str(acc_test)\n",
    "             +\" Loss: \"+ str(temp_loss))\n"
   ]
  },
  {
   "cell_type": "markdown",
   "metadata": {},
   "source": [
    "### Visualización de la curva del error"
   ]
  },
  {
   "cell_type": "code",
   "execution_count": 129,
   "metadata": {},
   "outputs": [
    {
     "data": {
      "text/plain": [
       "Text(0, 0.5, 'Loss')"
      ]
     },
     "execution_count": 129,
     "metadata": {},
     "output_type": "execute_result"
    },
    {
     "data": {
      "image/png": "[encoded data removed]",
      "text/plain": [
       "<Figure size 432x288 with 1 Axes>"
      ]
     },
     "metadata": {
      "needs_background": "light"
     },
     "output_type": "display_data"
    }
   ],
   "source": [
    "### Visualización de la evolución del error\n",
    "plt.plot(range(epochs), loss_trace, label=\"Evolución del error\", color='blue' )\n",
    "plt.title(\"Cross entropy Loss\")\n",
    "plt.xlabel(\"Epoch\")\n",
    "plt.ylabel(\"Loss\")"
   ]
  },
  {
   "cell_type": "markdown",
   "metadata": {},
   "source": [
    "### Evolución de la precisión promedio por epoch"
   ]
  },
  {
   "cell_type": "code",
   "execution_count": 118,
   "metadata": {},
   "outputs": [
    {
     "data": {
      "text/plain": [
       "Text(0, 0.5, 'Accuracy')"
      ]
     },
     "execution_count": 118,
     "metadata": {},
     "output_type": "execute_result"
    },
    {
     "data": {
      "image/png": "[encoded data removed]",
      "text/plain": [
       "<Figure size 432x288 with 1 Axes>"
      ]
     },
     "metadata": {
      "needs_background": "light"
     },
     "output_type": "display_data"
    }
   ],
   "source": [
    "#Visualización de la evolución de la precisión del entrenamiento y del test\n",
    "plt.plot(range(epochs), train_acc, label=\"Acc train\", color=\"green\")\n",
    "plt.plot(range(epochs), test_acc, label=\"Acc test\", color=\"orange\")\n",
    "plt.legend(loc=\"lower right\")\n",
    "plt.title(\"Acc evolution\")\n",
    "plt.xlabel(\"Epoch\")\n",
    "plt.ylabel(\"Accuracy\")"
   ]
  },
  {
   "cell_type": "markdown",
   "metadata": {},
   "source": [
    "### Decision boundary"
   ]
  },
  {
   "cell_type": "code",
   "execution_count": 119,
   "metadata": {},
   "outputs": [],
   "source": [
    "Weights = np.squeeze(session.run(W))\n",
    "Bias = np.squeeze(session.run(b))\n",
    "# Calculating the Decision Boundary \n",
    "decision_boundary_x = np.array([np.min(X_data[:, 0]), \n",
    "                               np.max(X_data[:, 0])]) \n",
    "\n",
    "decision_boundary_y = (- 1.0 / Weights[0]) * (decision_boundary_x * Weights + Bias) \n",
    "\n",
    "decision_boundary_y = [decision_boundary_y[0], decision_boundary_y[1]] "
   ]
  },
  {
   "cell_type": "code",
   "execution_count": 120,
   "metadata": {},
   "outputs": [],
   "source": [
    "def norm(values):\n",
    "    return (values-30.05882)/(98.86943-30.05882)\n"
   ]
  },
  {
   "cell_type": "code",
   "execution_count": 121,
   "metadata": {},
   "outputs": [
    {
     "data": {
      "text/plain": [
       "[0.0, 1.0]"
      ]
     },
     "execution_count": 121,
     "metadata": {},
     "output_type": "execute_result"
    },
    {
     "data": {
      "image/png": "[encoded data removed]",
      "text/plain": [
       "<Figure size 432x288 with 1 Axes>"
      ]
     },
     "metadata": {
      "needs_background": "light"
     },
     "output_type": "display_data"
    }
   ],
   "source": [
    "plt.plot(norm(pass_student['Mark_1']), norm(pass_student['Mark_2']), 'o', color='green', label = \"Admitted\")\n",
    "plt.plot(norm(no_pass_student['Mark_1']), norm(no_pass_student['Mark_2']), 'x', color='red', label = \"No Admitted\")\n",
    "plt.legend(loc=\"lower left\")\n",
    "plt.xlabel(\"Mark 1\")\n",
    "plt.ylabel(\"Mark 2\")\n",
    "\n",
    "minimun = np.min(x_data_norm[:, 0])\n",
    "maximum = np.max(x_data_norm[:, 1])\n",
    "\n",
    "x_values = [np.min(x_data_norm[:, 0] - 0), np.max(x_data_norm[:, 1] + 0)]\n",
    "y_values = - (Bias + np.dot(Weights[0], x_values)) / Weights[1]\n",
    "\n",
    "plt.plot(x_values, y_values) \n",
    "x_values"
   ]
  },
  {
   "cell_type": "code",
   "execution_count": 124,
   "metadata": {},
   "outputs": [
    {
     "name": "stdout",
     "output_type": "stream",
     "text": [
      "0.92\n",
      "0.9125\n",
      "0.95\n"
     ]
    }
   ],
   "source": [
    "#Total accuracy experiment\n",
    "total_acc = session.run(accuracy, feed_dict={x_data: all_x, y_target:np.matrix(all_y).T})\n",
    "train_t_acc = session.run(accuracy, feed_dict={x_data: x_train, y_target:np.matrix(y_train).T})\n",
    "test_t_acc = session.run(accuracy, feed_dict={x_data: x_test, y_target:np.matrix(y_test).T})\n",
    "print(total_acc)\n",
    "print(train_t_acc)\n",
    "print(test_t_acc)"
   ]
  },
  {
   "cell_type": "code",
   "execution_count": 163,
   "metadata": {},
   "outputs": [
    {
     "name": "stdout",
     "output_type": "stream",
     "text": [
      "[[0.43512447 0.58045089]]\n",
      "1.0\n"
     ]
    }
   ],
   "source": [
    "#Trial de dato individual\n",
    "x_val = np.array([60,70]).reshape(1,2)\n",
    "x_val_norm = norm(x_val)\n",
    "print(x_val_norm)\n",
    "print(np.squeeze(session.run(y_prediction,feed_dict={x_data: x_val_norm})))"
   ]
  }
 ],
 "metadata": {
  "kernelspec": {
   "display_name": "Python 3",
   "language": "python",
   "name": "python3"
  },
  "language_info": {
   "codemirror_mode": {
    "name": "ipython",
    "version": 3
   },
   "file_extension": ".py",
   "mimetype": "text/x-python",
   "name": "python",
   "nbconvert_exporter": "python",
   "pygments_lexer": "ipython3",
   "version": "3.7.3"
  }
 },
 "nbformat": 4,
 "nbformat_minor": 2
}
